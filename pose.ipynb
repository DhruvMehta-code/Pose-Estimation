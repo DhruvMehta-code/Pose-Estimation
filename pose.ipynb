{
 "cells": [
  {
   "cell_type": "code",
   "execution_count": 2,
   "id": "94dd11e4-2f8f-44aa-9129-dc9d9dcd294f",
   "metadata": {},
   "outputs": [],
   "source": [
    "import numpy as np\n",
    "import os\n",
    "import cv2\n",
    "import mediapipe as mp\n",
    "import subprocess\n",
    "import csv\n",
    "from keras.models import Sequential\n",
    "from keras.layers import Conv3D, MaxPooling3D, Flatten, Dense\n",
    "from tensorflow.keras.layers import Input,Concatenate\n",
    "from tensorflow.keras.models import Model\n",
    "import pandas as pd\n",
    "import matplotlib.pyplot as plt\n",
    "from sklearn.model_selection import train_test_split\n",
    "from sklearn.metrics import mean_absolute_error as mae_func, mean_squared_error\n",
    "from sklearn import preprocessing\n",
    "mp_selfie_segmentation = mp.solutions.selfie_segmentation\n",
    "mp_drawing = mp.solutions.drawing_utils\n",
    "mp_pose = mp.solutions.pose"
   ]
  },
  {
   "cell_type": "code",
   "execution_count": 3,
   "id": "6da40530-f7f3-4fe1-81d3-c200926011a4",
   "metadata": {},
   "outputs": [],
   "source": [
    "# print(cv2.getBuildInformation())"
   ]
  },
  {
   "cell_type": "code",
   "execution_count": 4,
   "id": "51264061-1445-4064-b143-ba9872a40088",
   "metadata": {},
   "outputs": [],
   "source": [
    "video_directory = \"E:\\\\course_work\\\\Dissertation\\\\back\"\n",
    "\n",
    "videos = []\n",
    "\n",
    "for dirpath, dirnames, filenames in os.walk(video_directory):\n",
    "    video_files = [file for file in filenames if file.endswith('.mkv')]\n",
    "    for video_file in video_files:\n",
    "        video_file_path = os.path.join(dirpath, video_file)\n",
    "        output_file_path = os.path.splitext(video_file_path)[0] + '.mp4'\n",
    "        subprocess.run(['ffmpeg', '-i', video_file_path, output_file_path])\n",
    "        videos.append(output_file_path)\n"
   ]
  },
  {
   "cell_type": "code",
   "execution_count": 5,
   "id": "43e26167-462d-4fce-bc23-0a9035580fca",
   "metadata": {},
   "outputs": [],
   "source": [
    "  \n",
    "output_folder = \"E:\\\\course_work\\\\Dissertation\\\\pose_estim\\\\\" \n",
    "output_extension = \".mp4\"\n",
    "\n",
    "# Set the video writer parameters\n",
    "fourcc = cv2.VideoWriter_fourcc(*\"mp4v\")  # Specify the video codec (e.g., \"mp4v\" for MP4)\n",
    "\n",
    "frame_size = (1280, 720)\n",
    "\n"
   ]
  },
  {
   "cell_type": "markdown",
   "id": "df2a0cbb-015a-4971-8e75-d547efd79b27",
   "metadata": {},
   "source": [
    "# Estimation Keypoint"
   ]
  },
  {
   "cell_type": "markdown",
   "id": "463790d4-0d0e-4114-8001-4301cbd7fb73",
   "metadata": {},
   "source": [
    "<img src=\"https://www.mdpi.com/applsci/applsci-13-02700/article_deploy/html/images/applsci-13-02700-g001.png\" style=\"height=200px\" >"
   ]
  },
  {
   "cell_type": "markdown",
   "id": "3db41026-8133-4c9b-9b09-9bd30d369304",
   "metadata": {},
   "source": [
    "# Jumping"
   ]
  },
  {
   "cell_type": "code",
   "execution_count": 6,
   "id": "63bf9d75-022e-4119-8646-74d3f87d1cbd",
   "metadata": {},
   "outputs": [],
   "source": [
    "def calculate_vertical_displacement(a, b):\n",
    "    \"\"\"Calculate the vertical displacement between points a and b\"\"\"\n",
    "    return b - a"
   ]
  },
  {
   "cell_type": "markdown",
   "id": "5a5963b6-5c0a-4c2b-b91a-6d30248ea873",
   "metadata": {},
   "source": [
    "# Squating"
   ]
  },
  {
   "cell_type": "code",
   "execution_count": 7,
   "id": "6b313bce-61d9-479a-85f7-3c171140ec16",
   "metadata": {},
   "outputs": [],
   "source": [
    "def calculate_angle(a, b, c):\n",
    "    \"\"\"Calculate the angle between points a, b, and c\"\"\"\n",
    "    ba = a - b\n",
    "    bc = c - b\n",
    "\n",
    "    cosine_angle = np.dot(ba, bc) / (np.linalg.norm(ba) * np.linalg.norm(bc))\n",
    "    #cosine_angle = np.clip(cosine_angle, -1, 1)\n",
    "    angle = np.arccos(cosine_angle)\n",
    "    \n",
    "    return np.degrees(angle)"
   ]
  },
  {
   "cell_type": "code",
   "execution_count": 31,
   "id": "8e667552-407c-44c7-8849-8ef1540e0ecf",
   "metadata": {
    "editable": true,
    "slideshow": {
     "slide_type": ""
    },
    "tags": []
   },
   "outputs": [
    {
     "name": "stdout",
     "output_type": "stream",
     "text": [
      "Squat detected in video: E:\\course_work\\Dissertation\\back\\back_001\\back_001_m01_20230224094505.mp4\n",
      "0\n",
      "Squat detected in video: E:\\course_work\\Dissertation\\back\\back_001\\back_001_m01_20230224094600.mp4\n",
      "0\n",
      "Squat detected in video: E:\\course_work\\Dissertation\\back\\back_001\\back_001_m01_20230224094626.mp4\n",
      "0\n",
      "Squat detected in video: E:\\course_work\\Dissertation\\back\\back_001\\back_001_m01_20230224094649.mp4\n",
      "0\n",
      "Squat detected in video: E:\\course_work\\Dissertation\\back\\back_001\\back_001_m01_20230224094705.mp4\n",
      "0\n",
      "Squat detected in video: E:\\course_work\\Dissertation\\back\\back_001\\back_001_m01_20230224094722.mp4\n",
      "0\n",
      "Squat detected in video: E:\\course_work\\Dissertation\\back\\back_001\\back_001_m01_20230224094739.mp4\n",
      "0\n",
      "Squat detected in video: E:\\course_work\\Dissertation\\back\\back_001\\back_001_m01_20230224094754.mp4\n",
      "0\n",
      "Squat detected in video: E:\\course_work\\Dissertation\\back\\back_001\\back_001_m01_20230224094811.mp4\n",
      "0\n",
      "Squat detected in video: E:\\course_work\\Dissertation\\back\\back_001\\back_001_m01_20230224094826.mp4\n",
      "0\n",
      "Squat detected in video: E:\\course_work\\Dissertation\\back\\back_001\\back_001_m01_20230224094843.mp4\n",
      "0\n",
      "Jump detected in video: E:\\course_work\\Dissertation\\back\\back_001\\back_001_m02_20230224094942.mp4\n",
      "0\n",
      "Jump detected in video: E:\\course_work\\Dissertation\\back\\back_001\\back_001_m02_20230224095019.mp4\n",
      "0\n",
      "Jump detected in video: E:\\course_work\\Dissertation\\back\\back_001\\back_001_m02_20230224095040.mp4\n",
      "0\n"
     ]
    },
    {
     "ename": "KeyboardInterrupt",
     "evalue": "",
     "output_type": "error",
     "traceback": [
      "\u001b[1;31m---------------------------------------------------------------------------\u001b[0m",
      "\u001b[1;31mKeyboardInterrupt\u001b[0m                         Traceback (most recent call last)",
      "Cell \u001b[1;32mIn[31], line 134\u001b[0m\n\u001b[0;32m    132\u001b[0m \u001b[38;5;66;03m# this two will blurred background \u001b[39;00m\n\u001b[0;32m    133\u001b[0m blurred_image \u001b[38;5;241m=\u001b[39m cv2\u001b[38;5;241m.\u001b[39mGaussianBlur(image, (\u001b[38;5;241m99\u001b[39m, \u001b[38;5;241m99\u001b[39m), \u001b[38;5;241m30\u001b[39m)\n\u001b[1;32m--> 134\u001b[0m output_image \u001b[38;5;241m=\u001b[39m \u001b[43mnp\u001b[49m\u001b[38;5;241;43m.\u001b[39;49m\u001b[43mwhere\u001b[49m\u001b[43m(\u001b[49m\u001b[43mcondition\u001b[49m\u001b[43m,\u001b[49m\u001b[43m \u001b[49m\u001b[43mimage\u001b[49m\u001b[43m,\u001b[49m\u001b[43m \u001b[49m\u001b[43mblurred_image\u001b[49m\u001b[43m)\u001b[49m\n\u001b[0;32m    136\u001b[0m \u001b[38;5;66;03m# this below lines change background to green color\u001b[39;00m\n\u001b[0;32m    137\u001b[0m \u001b[38;5;66;03m# background_color = np.zeros_like(image)\u001b[39;00m\n\u001b[0;32m    138\u001b[0m \u001b[38;5;66;03m# background_color[:] = [0, 255, 0]  # Green in BGR\u001b[39;00m\n\u001b[0;32m    139\u001b[0m \u001b[38;5;66;03m# output_image = np.where(condition, image, background_color)\u001b[39;00m\n\u001b[0;32m    141\u001b[0m frame_count \u001b[38;5;241m+\u001b[39m\u001b[38;5;241m=\u001b[39m \u001b[38;5;241m1\u001b[39m\n",
      "File \u001b[1;32m<__array_function__ internals>:180\u001b[0m, in \u001b[0;36mwhere\u001b[1;34m(*args, **kwargs)\u001b[0m\n",
      "\u001b[1;31mKeyboardInterrupt\u001b[0m: "
     ]
    }
   ],
   "source": [
    "os.makedirs(output_folder, exist_ok=True)\n",
    "csv_file = open(\"output.csv\", mode='w', newline='')  # Set newline='' to avoid extra empty rows\n",
    "csv_writer = csv.writer(csv_file)\n",
    "csv_writer.writerow(['video_path', 'action', 'hip_knee_angle', 'shoulder_hip_angle', 'shoulder_angle', 'elbow_angle','avg_hip_angle', 'avg_shoulder_angle', 'avg_knee_angle','feet_together'])\n",
    "\n",
    "feet_together = False\n",
    "\n",
    "with mp_pose.Pose(min_detection_confidence=0.8 , min_tracking_confidence=0.8) as pose,mp_selfie_segmentation.SelfieSegmentation(model_selection=0) as selfie_segmentation:\n",
    "    for vid in videos:\n",
    "        video = cv2.VideoCapture(vid)\n",
    "        total_frames = int(video.get(cv2.CAP_PROP_FRAME_COUNT))\n",
    "        squat_detected = False\n",
    "        jump_detected = False\n",
    "        baseline = None\n",
    "        jump_threshold = 0.015\n",
    "        filename = os.path.splitext(os.path.basename(vid))[0]\n",
    "        output_path = os.path.join(output_folder, filename + output_extension)\n",
    "        original_fps = video.get(cv2.CAP_PROP_FPS)\n",
    "        original_frame_size = (\n",
    "            int(video.get(cv2.CAP_PROP_FRAME_WIDTH)),\n",
    "            int(video.get(cv2.CAP_PROP_FRAME_HEIGHT))\n",
    "        )\n",
    "        video_writer = cv2.VideoWriter(output_path, fourcc, original_fps, frame_size)\n",
    "        hip_knee_angles = []\n",
    "        shoulder_hip_angles = []\n",
    "        shoulder_angles = []\n",
    "        elbow_angles = []\n",
    "        foot_y_positions = []\n",
    "        avg_hip_angle = 0.0\n",
    "        avg_shoulder_angle = 0.0\n",
    "        avg_knee_angle = 0.0\n",
    "        frame_count = 0\n",
    "        feet_off_floor = False\n",
    "        feet_landed = False\n",
    "        while True:\n",
    "            ret,frame = video.read()\n",
    "            if not ret:\n",
    "                break\n",
    "\n",
    "            resized_frame = cv2.resize(frame, frame_size)\n",
    "            image = cv2.cvtColor(resized_frame,cv2.COLOR_BGR2RGB)\n",
    "            image.flags.writeable = False\n",
    "            results = pose.process(image)\n",
    "            segmentation_results = selfie_segmentation.process(image)\n",
    "            image.flags.writeable = True\n",
    "            \n",
    "            if results.pose_landmarks:\n",
    "                landmarks = results.pose_landmarks.landmark\n",
    "\n",
    "                # Squating\n",
    "                right_hip = np.array([landmarks[mp_pose.PoseLandmark.RIGHT_HIP].x, landmarks[mp_pose.PoseLandmark.RIGHT_HIP].y])\n",
    "                right_knee = np.array([landmarks[mp_pose.PoseLandmark.RIGHT_KNEE].x, landmarks[mp_pose.PoseLandmark.RIGHT_KNEE].y])\n",
    "                left_knee = np.array([landmarks[mp_pose.PoseLandmark.LEFT_KNEE].x, landmarks[mp_pose.PoseLandmark.LEFT_KNEE].y])\n",
    "                right_shoulder = np.array([landmarks[mp_pose.PoseLandmark.RIGHT_SHOULDER].x, landmarks[mp_pose.PoseLandmark.RIGHT_SHOULDER].y])\n",
    "                left_shoulder = np.array([landmarks[mp_pose.PoseLandmark.LEFT_SHOULDER].x, landmarks[mp_pose.PoseLandmark.LEFT_SHOULDER].y])\n",
    "                left_hip = np.array([landmarks[mp_pose.PoseLandmark.LEFT_HIP].x, landmarks[mp_pose.PoseLandmark.LEFT_HIP].y])\n",
    "                right_elbow = np.array([landmarks[mp_pose.PoseLandmark.RIGHT_ELBOW].x, landmarks[mp_pose.PoseLandmark.RIGHT_ELBOW].y])\n",
    "                right_wrist = np.array([landmarks[mp_pose.PoseLandmark.RIGHT_WRIST].x, landmarks[mp_pose.PoseLandmark.RIGHT_WRIST].y])\n",
    "                right_foot_y = landmarks[mp_pose.PoseLandmark.RIGHT_FOOT_INDEX].y\n",
    "                left_foot_y = landmarks[mp_pose.PoseLandmark.LEFT_FOOT_INDEX].y\n",
    "                right_ankle = landmarks[mp_pose.PoseLandmark.RIGHT_ANKLE].y\n",
    "                left_ankle = landmarks[mp_pose.PoseLandmark.LEFT_ANKLE].y\n",
    "                \n",
    "                # Calculate angles\n",
    "                elbow_angle = calculate_angle(right_shoulder, right_elbow, right_wrist)\n",
    "                hip_knee_angle = calculate_angle(right_hip, right_knee, left_knee)\n",
    "                shoulder_hip_angle = calculate_angle(right_shoulder, right_hip, left_hip)\n",
    "                shoulder_angle = calculate_angle(right_shoulder, left_shoulder, right_hip)\n",
    "                \n",
    "                \n",
    "                hip_knee_angles.append(hip_knee_angle)\n",
    "                shoulder_hip_angles.append(shoulder_hip_angle)\n",
    "                shoulder_angles.append(shoulder_angle)\n",
    "                elbow_angles.append(elbow_angle)\n",
    "                avg_hip_angle += hip_knee_angle\n",
    "                avg_shoulder_angle += shoulder_hip_angle\n",
    "                avg_knee_angle += shoulder_angle\n",
    "    \n",
    "                \n",
    "                # Detect squats\n",
    "                squat_condition1 = hip_knee_angle < 110\n",
    "                squat_condition2 = shoulder_hip_angle < 130\n",
    "                squat_condition3 = shoulder_angle < 70\n",
    "                squat_condition4 = elbow_angle > 90\n",
    "                squat_condition5 = landmarks[mp_pose.PoseLandmark.RIGHT_HEEL].y >= landmarks[mp_pose.PoseLandmark.RIGHT_KNEE].y\n",
    "                squat_condition6 = landmarks[mp_pose.PoseLandmark.LEFT_HEEL].y >= landmarks[mp_pose.PoseLandmark.LEFT_KNEE].y\n",
    "                if squat_condition1 and squat_condition2 and squat_condition3 and squat_condition4 and squat_condition5 and squat_condition6:  # Ensuring heels are grounded\n",
    "                    squat_detected = True\n",
    "                \n",
    "            \n",
    "                # Jumping\n",
    "\n",
    "                hip_y = (landmarks[27].y + landmarks[28].y) / 2\n",
    "    \n",
    "                if baseline is None:\n",
    "                    baseline = hip_y\n",
    "                else:\n",
    "                    # Calculate the distance of the hips from the baseline\n",
    "                    hip_distance = calculate_vertical_displacement(baseline,hip_y)\n",
    "\n",
    "                    if hip_distance > jump_threshold :\n",
    "                        jump_detected = True\n",
    "                        \n",
    "                        average_foot_y = (right_foot_y + left_foot_y) / 2\n",
    "                        foot_y_positions.append(average_foot_y)\n",
    "                        if len(foot_y_positions) > 2:\n",
    "                            prev_pos1 = foot_y_positions[-3]\n",
    "                            prev_pos2 = foot_y_positions[-2]\n",
    "                            curr_pos = foot_y_positions[-1]\n",
    "                            print(prev_pos1)\n",
    "                            print(prev_pos)\n",
    "                            \n",
    "\n",
    "                    # Check if both feet were previously on the floor and are now off the floor\n",
    "                            if prev_pos1 < prev_pos2 and curr_pos < prev_pos2:\n",
    "                                feet_off_floor = True\n",
    "\n",
    "                            if prev_pos1 > prev_pos2 and curr_pos > prev_pos2 and feet_off_floor:\n",
    "                                feet_landed = True\n",
    "\n",
    "                            if feet_off_floor and feet_landed:\n",
    "                                feet_together = True\n",
    "                    baseline = hip_y\n",
    "                    \n",
    "\n",
    "                mp_drawing.draw_landmarks(image, results.pose_landmarks, mp_pose.POSE_CONNECTIONS)\n",
    "\n",
    "                #Frame Normalization\n",
    "                landmarks_array = np.array([(lmk.x, lmk.y, lmk.z) for lmk in landmarks])\n",
    "                # Normalize the landmarks\n",
    "                mean = np.mean(landmarks_array, axis=0)\n",
    "                std = np.std(landmarks_array, axis=0)\n",
    "                normalized_landmarks = (landmarks_array - mean) / std\n",
    "\n",
    "            condition = np.stack((segmentation_results.segmentation_mask,) * 3, axis=-1) > 0.1\n",
    "            # this two will blurred background \n",
    "            blurred_image = cv2.GaussianBlur(image, (99, 99), 30)\n",
    "            output_image = np.where(condition, image, blurred_image)\n",
    "\n",
    "            # this below lines change background to green color\n",
    "            # background_color = np.zeros_like(image)\n",
    "            # background_color[:] = [0, 255, 0]  # Green in BGR\n",
    "            # output_image = np.where(condition, image, background_color)\n",
    "            \n",
    "            frame_count += 1\n",
    "\n",
    "            video_writer.write(output_image)\n",
    "            \n",
    "        hip_knee_angle = np.mean(hip_knee_angles)\n",
    "        shoulder_hip_angle = np.mean(shoulder_hip_angles)\n",
    "        shoulder_angle = np.mean(shoulder_angles)\n",
    "        elbow_angle = np.mean(elbow_angles)\n",
    "        \n",
    "        if frame_count > 0:\n",
    "            avg_hip_angle /= frame_count\n",
    "            avg_shoulder_angle /= frame_count\n",
    "            avg_knee_angle /= frame_count\n",
    "        else:\n",
    "            # Assign default values if no frames were processed\n",
    "            avg_hip_angle = 0.0\n",
    "            avg_shoulder_angle = 0.0\n",
    "            avg_knee_angle = 0.0\n",
    "            \n",
    "        if squat_detected and not jump_detected:\n",
    "            action = \"Squat\"\n",
    "            print(f\"Squat detected in video: {vid}\")\n",
    "        elif jump_detected and squat_detected:\n",
    "            action= \"Jump\"\n",
    "            print(f\"Jump detected in video: {vid}\")\n",
    "        else:\n",
    "            action='None'\n",
    "        print(int(feet_together))\n",
    "        csv_writer.writerow([output_path, action, hip_knee_angle, shoulder_hip_angle, shoulder_angle, elbow_angle,avg_hip_angle,avg_shoulder_angle,avg_knee_angle,int(feet_together)])\n",
    "        # else:\n",
    "        #     print(f\"nothing detected in video: {vid}\")\n",
    "        video.release()\n",
    "        video_writer.release()\n",
    "csv_file.close()\n",
    "\n"
   ]
  },
  {
   "cell_type": "code",
   "execution_count": null,
   "id": "2971237c-fe86-49f1-bf96-eff5ee8ccd25",
   "metadata": {},
   "outputs": [],
   "source": [
    "\n",
    "\n",
    "\n"
   ]
  },
  {
   "cell_type": "code",
   "execution_count": 5,
   "id": "351c56bb-8d23-4401-93da-951eeaef7dca",
   "metadata": {},
   "outputs": [],
   "source": [
    "import pandas as pd"
   ]
  },
  {
   "cell_type": "code",
   "execution_count": null,
   "id": "5e5ed9eb-4db9-4f9b-ae9f-6831b40563f6",
   "metadata": {},
   "outputs": [],
   "source": []
  },
  {
   "cell_type": "code",
   "execution_count": 6,
   "id": "d3aaca72-d9a1-4072-91d8-e5507954deb7",
   "metadata": {},
   "outputs": [],
   "source": [
    "import cv2\n",
    "import numpy as np\n",
    "\n",
    "def preprocess_video(video_path, frame_size=(64, 64), num_frames=30):\n",
    "    # Initialize a list to hold frames\n",
    "    frames = []\n",
    "\n",
    "    # Open the video file\n",
    "    video = cv2.VideoCapture(video_path)\n",
    "\n",
    "    # Get total number of frames\n",
    "    total_frames = int(video.get(cv2.CAP_PROP_FRAME_COUNT))\n",
    "\n",
    "    # Calculate the middle frame number\n",
    "    middle_frame = total_frames // 2\n",
    "\n",
    "    # Calculate the start frame number\n",
    "    start_frame = max(0, middle_frame - num_frames // 2)\n",
    "\n",
    "    # Set the video to start at the start_frame\n",
    "    video.set(cv2.CAP_PROP_POS_FRAMES, start_frame)\n",
    "\n",
    "    while True:\n",
    "        # Read a frame from the video\n",
    "        ret, frame = video.read()\n",
    "\n",
    "        # If the frame was successfully read\n",
    "        if ret:\n",
    "            # Resize the frame\n",
    "            frame = cv2.resize(frame, frame_size)\n",
    "\n",
    "            # Normalize pixel values\n",
    "            frame = frame / 255.0\n",
    "\n",
    "            # Add the frame to the list\n",
    "            frames.append(frame)\n",
    "        else:\n",
    "            # If no frame was read then we've reached the end of the video\n",
    "            break\n",
    "\n",
    "        # If we've collected enough frames then we can stop reading the video\n",
    "        if len(frames) == num_frames:\n",
    "            break\n",
    "\n",
    "    video.release()\n",
    "\n",
    "    # Stack frames into a single numpy array\n",
    "    frames = np.stack(frames)\n",
    "\n",
    "    return frames\n",
    "\n"
   ]
  },
  {
   "cell_type": "code",
   "execution_count": 7,
   "id": "ecefb693-15b5-4aab-81cc-791dc91b54f7",
   "metadata": {},
   "outputs": [],
   "source": [
    "# Read the CSV file\n",
    "data = pd.read_csv('output.csv')\n",
    "label_encoder = preprocessing.LabelEncoder()\n",
    "data['action']= label_encoder.fit_transform(data['action'])\n",
    "data  = data.dropna()\n",
    "\n",
    "# Preprocess videos\n",
    "video_X = np.array([preprocess_video(vp) for vp in data['video_path']])\n",
    "\n",
    "angle_X = data[['hip_knee_angle', 'shoulder_hip_angle', 'shoulder_angle', 'elbow_angle','avg_hip_angle', 'avg_shoulder_angle', 'avg_knee_angle','action']].values\n",
    "\n",
    "# Convert the scores to a numpy array\n",
    "y = data['score'].values\n"
   ]
  },
  {
   "cell_type": "code",
   "execution_count": 8,
   "id": "216f0557-0624-4b19-9efc-e24008af687c",
   "metadata": {},
   "outputs": [],
   "source": [
    "# Split the video data into training and testing sets\n",
    "video_X_train, video_X_test, y_train, y_test = train_test_split(video_X, y, test_size=0.2, random_state=42)\n",
    "\n",
    "# Split the angle data into training and testing sets\n",
    "angle_X_train, angle_X_test, _, _ = train_test_split(angle_X, y, test_size=0.2, random_state=42)\n",
    "\n",
    "# Define the model\n",
    "num_frames = video_X_train.shape[1]\n",
    "frame_height = video_X_train.shape[2]\n",
    "frame_width = video_X_train.shape[3]\n",
    "num_channels = video_X_train.shape[4]\n",
    "num_angles = angle_X_train.shape[1]"
   ]
  },
  {
   "cell_type": "code",
   "execution_count": 9,
   "id": "26871767-0a39-4282-b11f-2204b5852722",
   "metadata": {
    "scrolled": true
   },
   "outputs": [],
   "source": [
    "video_input = Input(shape=(num_frames, frame_height, frame_width, num_channels))\n",
    "x = Conv3D(32, (3, 3, 3), activation='relu')(video_input)\n",
    "x = MaxPooling3D(pool_size=(2, 2, 2))(x)\n",
    "x = Flatten()(x)\n",
    "x = Dense(64, activation='relu')(x)"
   ]
  },
  {
   "cell_type": "code",
   "execution_count": 10,
   "id": "c8888653-c05d-4bb5-a155-441172df53d0",
   "metadata": {},
   "outputs": [],
   "source": [
    "# Angles branch\n",
    "angles_input = Input(shape=(num_angles,))\n",
    "y = Dense(32, activation='relu')(angles_input)"
   ]
  },
  {
   "cell_type": "code",
   "execution_count": 11,
   "id": "ce08d987-76b1-4578-a348-fcfd7bca982f",
   "metadata": {},
   "outputs": [],
   "source": [
    "combined = Concatenate()([x, y])"
   ]
  },
  {
   "cell_type": "code",
   "execution_count": 12,
   "id": "a7d4c886-bc56-4cbf-93a3-171b4eaa6385",
   "metadata": {},
   "outputs": [],
   "source": [
    "# combined outputs\n",
    "z = Dense(64, activation='relu')(combined)\n",
    "z = Dense(32, activation='relu')(z)\n",
    "score_output = Dense(1, activation='linear')(z)"
   ]
  },
  {
   "cell_type": "code",
   "execution_count": 13,
   "id": "6b0376d5-411e-4c96-884d-c2589bc5ec14",
   "metadata": {},
   "outputs": [],
   "source": [
    "model = Model(inputs=[video_input, angles_input], outputs=score_output)"
   ]
  },
  {
   "cell_type": "code",
   "execution_count": 14,
   "id": "7493ad8d-e495-4763-a81f-decb13655a63",
   "metadata": {},
   "outputs": [
    {
     "name": "stdout",
     "output_type": "stream",
     "text": [
      "Epoch 1/10\n",
      "6/6 [==============================] - 71s 11s/step - loss: 148.5798 - mean_absolute_error: 8.4549 - val_loss: 8.1390 - val_mean_absolute_error: 2.6410\n",
      "Epoch 2/10\n",
      "6/6 [==============================] - 64s 10s/step - loss: 3.6553 - mean_absolute_error: 1.4772 - val_loss: 1.0724 - val_mean_absolute_error: 0.8062\n",
      "Epoch 3/10\n",
      "6/6 [==============================] - 66s 11s/step - loss: 1.3723 - mean_absolute_error: 0.9628 - val_loss: 0.5070 - val_mean_absolute_error: 0.6181\n",
      "Epoch 4/10\n",
      "6/6 [==============================] - 63s 10s/step - loss: 0.5969 - mean_absolute_error: 0.6032 - val_loss: 0.5542 - val_mean_absolute_error: 0.6509\n",
      "Epoch 5/10\n",
      "6/6 [==============================] - 62s 10s/step - loss: 0.6902 - mean_absolute_error: 0.6673 - val_loss: 0.4645 - val_mean_absolute_error: 0.5807\n",
      "Epoch 6/10\n",
      "6/6 [==============================] - 61s 10s/step - loss: 0.5403 - mean_absolute_error: 0.6061 - val_loss: 0.4590 - val_mean_absolute_error: 0.5777\n",
      "Epoch 7/10\n",
      "6/6 [==============================] - 61s 10s/step - loss: 0.5527 - mean_absolute_error: 0.5840 - val_loss: 0.4233 - val_mean_absolute_error: 0.5748\n",
      "Epoch 8/10\n",
      "6/6 [==============================] - 62s 10s/step - loss: 0.5781 - mean_absolute_error: 0.6594 - val_loss: 0.5275 - val_mean_absolute_error: 0.5912\n",
      "Epoch 9/10\n",
      "6/6 [==============================] - 63s 10s/step - loss: 0.5362 - mean_absolute_error: 0.5702 - val_loss: 0.4577 - val_mean_absolute_error: 0.5956\n",
      "Epoch 10/10\n",
      "6/6 [==============================] - 64s 10s/step - loss: 0.4953 - mean_absolute_error: 0.5974 - val_loss: 0.7306 - val_mean_absolute_error: 0.6717\n",
      "2/2 [==============================] - 2s 381ms/step - loss: 0.7306 - mean_absolute_error: 0.6717\n",
      "2/2 [==============================] - 2s 383ms/step\n",
      "Mean Absolute Error: 0.6717\n",
      "Root Mean Squared Error: 0.8547\n"
     ]
    }
   ],
   "source": [
    "model.compile(optimizer='adam', loss='mean_squared_error', metrics=['mean_absolute_error'])\n",
    "\n",
    "\n",
    "# Train the model\n",
    "history = model.fit([video_X_train, angle_X_train], y_train, validation_data=([video_X_test, angle_X_test], y_test), epochs=10, batch_size=32)\n",
    "\n",
    "\n",
    "# Evaluate the model\n",
    "loss, mean_absolute_error = model.evaluate([video_X_test, angle_X_test], y_test)\n",
    "predictions = model.predict([video_X_test, angle_X_test])\n",
    "\n",
    "\n",
    "mae = mae_func(y_test, predictions)\n",
    "\n",
    "\n",
    "rmse = mean_squared_error(y_test, predictions, squared=False)\n",
    "\n",
    "print(\"Mean Absolute Error: {:.4f}\".format(mae))\n",
    "print(\"Root Mean Squared Error: {:.4f}\".format(rmse))\n",
    "\n"
   ]
  },
  {
   "cell_type": "code",
   "execution_count": 15,
   "id": "77cd2dbf-5787-4f30-b159-b51a02ff9125",
   "metadata": {},
   "outputs": [
    {
     "data": {
      "image/png": "[encoded data removed]",
      "text/plain": [
       "<Figure size 1200x400 with 2 Axes>"
      ]
     },
     "metadata": {},
     "output_type": "display_data"
    }
   ],
   "source": [
    "\n",
    "import matplotlib.pyplot as plt\n",
    "\n",
    "plt.figure(figsize=(12, 4))\n",
    "\n",
    "plt.subplot(1, 2, 1)\n",
    "plt.plot(history.history['loss'], label='Train Loss')\n",
    "plt.plot(history.history['val_loss'], label='Validation Loss')\n",
    "plt.title('Loss over epochs')\n",
    "plt.legend()\n",
    "\n",
    "plt.subplot(1, 2, 2)\n",
    "plt.plot(history.history['mean_absolute_error'], label='Train MAE')\n",
    "plt.plot(history.history['val_mean_absolute_error'], label='Validation MAE')\n",
    "plt.title('MAE over epochs')\n",
    "plt.legend()\n",
    "\n",
    "plt.show()"
   ]
  },
  {
   "cell_type": "code",
   "execution_count": 18,
   "id": "deac88f9-8f2e-49b6-8ca3-14e82233c487",
   "metadata": {},
   "outputs": [
    {
     "name": "stdout",
     "output_type": "stream",
     "text": [
      "Predicted: | Actual: \n",
      "Predicted: | Actual: \n",
      "Predicted: | Actual: \n",
      "Predicted: | Actual: \n",
      "Predicted: | Actual: \n",
      "Predicted: | Actual: \n",
      "Predicted: | Actual: \n",
      "Predicted: | Actual: \n",
      "Predicted: | Actual: \n",
      "Predicted: | Actual: \n",
      "Predicted: | Actual: \n",
      "Predicted: | Actual: \n",
      "Predicted: | Actual: \n",
      "Predicted: | Actual: \n",
      "Predicted: | Actual: \n",
      "Predicted: | Actual: \n",
      "Predicted: | Actual: \n",
      "Predicted: | Actual: \n",
      "Predicted: | Actual: \n",
      "Predicted: | Actual: \n",
      "Predicted: | Actual: \n",
      "Predicted: | Actual: \n",
      "Predicted: | Actual: \n",
      "Predicted: | Actual: \n",
      "Predicted: | Actual: \n",
      "Predicted: | Actual: \n",
      "Predicted: | Actual: \n",
      "Predicted: | Actual: \n",
      "Predicted: | Actual: \n",
      "Predicted: | Actual: \n",
      "Predicted: | Actual: \n",
      "Predicted: | Actual: \n",
      "Predicted: | Actual: \n",
      "Predicted: | Actual: \n",
      "Predicted: | Actual: \n",
      "Predicted: | Actual: \n",
      "Predicted: | Actual: \n",
      "Predicted: | Actual: \n",
      "Predicted: | Actual: \n",
      "Predicted: | Actual: \n",
      "Predicted: | Actual: \n",
      "Predicted: | Actual: \n",
      "Predicted: | Actual: \n"
     ]
    }
   ],
   "source": [
    "for i in range(len(predictions)):\n",
    "    print(\"Predicted: | Actual: \".format(predictions[i][0], y_test[i]))"
   ]
  },
  {
   "cell_type": "markdown",
   "id": "bd2f7dfe-05ad-4c51-b3d6-a8849daa3527",
   "metadata": {},
   "source": [
    "## Another Model"
   ]
  },
  {
   "cell_type": "code",
   "execution_count": 19,
   "id": "5a6cf195-b160-4256-bad3-578c1c5cf1ef",
   "metadata": {},
   "outputs": [],
   "source": [
    "# Define the Siamese network architecture\n",
    "def create_siamese_network(input_shape):\n",
    "    input_1 = Input(shape=input_shape)\n",
    "    input_2 = Input(shape=input_shape)\n",
    "\n",
    "    # Shared convolutional layers\n",
    "    conv1 = Conv3D(32, (3, 3, 3), activation='relu')\n",
    "    pool1 = MaxPooling3D(pool_size=(2, 2, 2))\n",
    "    flatten = Flatten()\n",
    "\n",
    "    # Branch 1\n",
    "    x1 = conv1(input_1)\n",
    "    x1 = pool1(x1)\n",
    "    x1 = flatten(x1)\n",
    "\n",
    "    # Branch 2\n",
    "    x2 = conv1(input_2)\n",
    "    x2 = pool1(x2)\n",
    "    x2 = flatten(x2)\n",
    "\n",
    "    # Concatenate the outputs of the branches\n",
    "    merged = Concatenate()([x1, x2])\n",
    "\n",
    "    # Dense layers for final prediction\n",
    "    x = Dense(64, activation='relu')(merged)\n",
    "    output = Dense(1, activation='linear')(x)\n",
    "\n",
    "    # Create the Siamese model\n",
    "    siamese_model = Model(inputs=[input_1, input_2], outputs=output)\n",
    "\n",
    "    return siamese_model"
   ]
  },
  {
   "cell_type": "code",
   "execution_count": 20,
   "id": "889b6d7c-7a52-4755-9538-34e582019d2d",
   "metadata": {},
   "outputs": [],
   "source": [
    "input_shape = (num_frames, frame_height, frame_width, num_channels)"
   ]
  },
  {
   "cell_type": "code",
   "execution_count": 21,
   "id": "2c576164-72ba-4171-bea4-dcc0c503560b",
   "metadata": {},
   "outputs": [],
   "source": [
    "siamese_model = create_siamese_network(input_shape)"
   ]
  },
  {
   "cell_type": "code",
   "execution_count": 22,
   "id": "1b969ba3-e8f2-4f29-882f-eecb1be733b7",
   "metadata": {},
   "outputs": [],
   "source": [
    "siamese_model.compile(optimizer='adam', loss='mean_squared_error')"
   ]
  },
  {
   "cell_type": "code",
   "execution_count": 23,
   "id": "d6c8b513-5fc3-4b22-9ade-c777e8d12190",
   "metadata": {},
   "outputs": [
    {
     "name": "stdout",
     "output_type": "stream",
     "text": [
      "Epoch 1/10\n",
      "6/6 [==============================] - 88s 13s/step - loss: 8997.4561 - val_loss: 79.1168\n",
      "Epoch 2/10\n",
      "6/6 [==============================] - 82s 13s/step - loss: 134.6432 - val_loss: 46.6761\n",
      "Epoch 3/10\n",
      "6/6 [==============================] - 82s 13s/step - loss: 14.3274 - val_loss: 5.9933\n",
      "Epoch 4/10\n",
      "6/6 [==============================] - 80s 13s/step - loss: 8.1760 - val_loss: 0.5772\n",
      "Epoch 5/10\n",
      "6/6 [==============================] - 81s 13s/step - loss: 2.8445 - val_loss: 0.5323\n",
      "Epoch 6/10\n",
      "6/6 [==============================] - 81s 13s/step - loss: 1.8148 - val_loss: 2.4140\n",
      "Epoch 7/10\n",
      "6/6 [==============================] - 77s 13s/step - loss: 1.4635 - val_loss: 1.7192\n",
      "Epoch 8/10\n",
      "6/6 [==============================] - 77s 13s/step - loss: 1.1621 - val_loss: 1.0134\n",
      "Epoch 9/10\n",
      "6/6 [==============================] - 81s 13s/step - loss: 0.8881 - val_loss: 0.4530\n",
      "Epoch 10/10\n",
      "6/6 [==============================] - 80s 13s/step - loss: 0.5410 - val_loss: 1.0869\n"
     ]
    }
   ],
   "source": [
    "his = siamese_model.fit([video_X_train, video_X_train], y_train, epochs=10, batch_size=32, validation_data=([video_X_test, video_X_test], y_test))"
   ]
  },
  {
   "cell_type": "code",
   "execution_count": 24,
   "id": "aed6ecf3-1848-4c5e-857f-ab595dffc7de",
   "metadata": {},
   "outputs": [
    {
     "name": "stdout",
     "output_type": "stream",
     "text": [
      "2/2 [==============================] - 3s 841ms/step\n",
      "Mean Absolute Error: 0.84\n",
      "Root Mean Squared Error: 1.04\n"
     ]
    }
   ],
   "source": [
    "predictions = siamese_model.predict([video_X_test, video_X_test])\n",
    "\n",
    "# Calculate mean absolute error (MAE)\n",
    "mae = mae_func(y_test, predictions)\n",
    "\n",
    "# Calculate root mean squared error (RMSE)\n",
    "rmse = mean_squared_error(y_test, predictions, squared=False)\n",
    "\n",
    "print(\"Mean Absolute Error: {:.2f}\".format(mae))\n",
    "print(\"Root Mean Squared Error: {:.2f}\".format(rmse))"
   ]
  },
  {
   "cell_type": "code",
   "execution_count": 26,
   "id": "b4bb867c-bf0b-4a00-ac08-9d2db35c1d73",
   "metadata": {},
   "outputs": [
    {
     "ename": "KeyError",
     "evalue": "'mean_absolute_error'",
     "output_type": "error",
     "traceback": [
      "\u001b[1;31m---------------------------------------------------------------------------\u001b[0m",
      "\u001b[1;31mKeyError\u001b[0m                                  Traceback (most recent call last)",
      "Cell \u001b[1;32mIn[26], line 12\u001b[0m\n\u001b[0;32m      9\u001b[0m plt\u001b[38;5;241m.\u001b[39mlegend()\n\u001b[0;32m     11\u001b[0m plt\u001b[38;5;241m.\u001b[39msubplot(\u001b[38;5;241m1\u001b[39m, \u001b[38;5;241m2\u001b[39m, \u001b[38;5;241m2\u001b[39m)\n\u001b[1;32m---> 12\u001b[0m plt\u001b[38;5;241m.\u001b[39mplot(\u001b[43mhis\u001b[49m\u001b[38;5;241;43m.\u001b[39;49m\u001b[43mhistory\u001b[49m\u001b[43m[\u001b[49m\u001b[38;5;124;43m'\u001b[39;49m\u001b[38;5;124;43mmean_absolute_error\u001b[39;49m\u001b[38;5;124;43m'\u001b[39;49m\u001b[43m]\u001b[49m, label\u001b[38;5;241m=\u001b[39m\u001b[38;5;124m'\u001b[39m\u001b[38;5;124mTrain MAE\u001b[39m\u001b[38;5;124m'\u001b[39m)\n\u001b[0;32m     13\u001b[0m plt\u001b[38;5;241m.\u001b[39mplot(history\u001b[38;5;241m.\u001b[39mhistory[\u001b[38;5;124m'\u001b[39m\u001b[38;5;124mval_mean_absolute_error\u001b[39m\u001b[38;5;124m'\u001b[39m], label\u001b[38;5;241m=\u001b[39m\u001b[38;5;124m'\u001b[39m\u001b[38;5;124mValidation MAE\u001b[39m\u001b[38;5;124m'\u001b[39m)\n\u001b[0;32m     14\u001b[0m plt\u001b[38;5;241m.\u001b[39mtitle(\u001b[38;5;124m'\u001b[39m\u001b[38;5;124mMAE over epochs\u001b[39m\u001b[38;5;124m'\u001b[39m)\n",
      "\u001b[1;31mKeyError\u001b[0m: 'mean_absolute_error'"
     ]
    },
    {
     "data": {
      "image/png": "[encoded data removed]",
      "text/plain": [
       "<Figure size 1200x400 with 2 Axes>"
      ]
     },
     "metadata": {},
     "output_type": "display_data"
    }
   ],
   "source": [
    "\n",
    "import matplotlib.pyplot as plt\n",
    "\n",
    "plt.figure(figsize=(12, 4))\n",
    "\n",
    "plt.subplot(1, 2, 1)\n",
    "plt.plot(his.history['loss'], label='Train Loss')\n",
    "plt.plot(his.history['val_loss'], label='Validation Loss')\n",
    "plt.title('Loss over epochs')\n",
    "plt.legend()\n",
    "\n",
    "plt.subplot(1, 2, 2)\n",
    "plt.plot(his.history['mean_absolute_error'], label='Train MAE')\n",
    "plt.plot(history.history['val_mean_absolute_error'], label='Validation MAE')\n",
    "plt.title('MAE over epochs')\n",
    "plt.legend()\n",
    "\n",
    "plt.show()"
   ]
  },
  {
   "cell_type": "code",
   "execution_count": null,
   "id": "596c1ba7-f6a0-493d-86db-9b44280227b2",
   "metadata": {},
   "outputs": [],
   "source": []
  }
 ],
 "metadata": {
  "kernelspec": {
   "display_name": "Python 3",
   "language": "python",
   "name": "python3"
  },
  "language_info": {
   "codemirror_mode": {
    "name": "ipython",
    "version": 3
   },
   "file_extension": ".py",
   "mimetype": "text/x-python",
   "name": "python",
   "nbconvert_exporter": "python",
   "pygments_lexer": "ipython3",
   "version": "3.11.1"
  }
 },
 "nbformat": 4,
 "nbformat_minor": 5
}
